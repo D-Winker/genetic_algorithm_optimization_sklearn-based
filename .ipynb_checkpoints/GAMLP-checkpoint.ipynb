{
 "cells": [
  {
   "cell_type": "markdown",
   "metadata": {},
   "source": [
    "# GA-based optimization of MLP hyperparameters"
   ]
  },
  {
   "cell_type": "markdown",
   "metadata": {},
   "source": [
    "### Imports"
   ]
  },
  {
   "cell_type": "code",
   "execution_count": 45,
   "metadata": {},
   "outputs": [],
   "source": [
    "from sklearn.datasets import load_breast_cancer\n",
    "from sklearn.model_selection import train_test_split\n",
    "from sklearn.decomposition import PCA\n",
    "from sklearn.preprocessing import StandardScaler\n",
    "from sklearn.neural_network import MLPClassifier\n",
    "import numpy as np\n",
    "from random import shuffle\n",
    "from operator import itemgetter"
   ]
  },
  {
   "cell_type": "markdown",
   "metadata": {},
   "source": [
    "### Load and pre-process data"
   ]
  },
  {
   "cell_type": "code",
   "execution_count": 46,
   "metadata": {},
   "outputs": [],
   "source": [
    "bc = load_breast_cancer()\n",
    "x_train, x_test, y_train, y_test = train_test_split(bc.data,bc.target)\n",
    "pca = PCA(n_components=10).fit(bc.data)\n",
    "xtr_new = pca.transform(x_train)\n",
    "xte_new = pca.transform(x_test)\n",
    "scaler = StandardScaler().fit(xtr_new)\n",
    "xtr_new = scaler.transform(xtr_new)\n",
    "xte_new = scaler.transform(xte_new)"
   ]
  },
  {
   "cell_type": "markdown",
   "metadata": {},
   "source": [
    "### Create initial population"
   ]
  },
  {
   "cell_type": "code",
   "execution_count": 49,
   "metadata": {},
   "outputs": [],
   "source": [
    "initial_population_size = 10\n",
    "population = [np.random.randint(1,31,(5,)) for i in range(initial_population_size)]"
   ]
  },
  {
   "cell_type": "markdown",
   "metadata": {},
   "source": [
    "### Train and test generation"
   ]
  },
  {
   "cell_type": "code",
   "execution_count": 50,
   "metadata": {},
   "outputs": [
    {
     "ename": "IndexError",
     "evalue": "list index out of range",
     "output_type": "error",
     "traceback": [
      "\u001b[0;31m---------------------------------------------------------------------------\u001b[0m",
      "\u001b[0;31mIndexError\u001b[0m                                Traceback (most recent call last)",
      "\u001b[0;32m<ipython-input-50-94ff063b8b19>\u001b[0m in \u001b[0;36m<module>\u001b[0;34m()\u001b[0m\n\u001b[1;32m     15\u001b[0m     \u001b[0mshuffle\u001b[0m\u001b[0;34m(\u001b[0m\u001b[0mpopulation\u001b[0m\u001b[0;34m)\u001b[0m\u001b[0;34m\u001b[0m\u001b[0m\n\u001b[1;32m     16\u001b[0m     new_population = [np.concatenate((population[sample][:3],population[sample+1][3:])) \n\u001b[0;32m---> 17\u001b[0;31m                       for sample in range(len(population))[1::2]]\n\u001b[0m\u001b[1;32m     18\u001b[0m     \u001b[0mpopulation\u001b[0m \u001b[0;34m=\u001b[0m \u001b[0mlist\u001b[0m\u001b[0;34m(\u001b[0m\u001b[0mnew_population\u001b[0m\u001b[0;34m)\u001b[0m\u001b[0;34m\u001b[0m\u001b[0m\n\u001b[1;32m     19\u001b[0m     \u001b[0;32mprint\u001b[0m\u001b[0;34m(\u001b[0m\u001b[0;34m\"Generation %d out of %d\"\u001b[0m \u001b[0;34m%\u001b[0m\u001b[0;34m(\u001b[0m\u001b[0mgeneration\u001b[0m\u001b[0;34m+\u001b[0m\u001b[0;36m1\u001b[0m\u001b[0;34m,\u001b[0m\u001b[0minitial_population_size\u001b[0m\u001b[0;34m/\u001b[0m\u001b[0;36m2\u001b[0m\u001b[0;34m)\u001b[0m\u001b[0;34m)\u001b[0m\u001b[0;34m\u001b[0m\u001b[0m\n",
      "\u001b[0;31mIndexError\u001b[0m: list index out of range"
     ]
    }
   ],
   "source": [
    "scores = []\n",
    "\n",
    "for generation in range(initial_population_size/2):\n",
    "    for sample in population:\n",
    "        nn = MLPClassifier(solver='sgd', alpha=1e-5, hidden_layer_sizes=sample, random_state=1)\n",
    "        nn.fit(xtr_new,y_train)\n",
    "        scores.append([nn.score(xte_new,y_test),sample])\n",
    "        scores.sort(key=lambda x: x[0])\n",
    "    \n",
    "    if len(scores)==2: \n",
    "        break\n",
    "    # create new population\n",
    "    del scores[-2:]\n",
    "    population = [model[1] for model in scores]\n",
    "    shuffle(population)\n",
    "    new_population = [np.concatenate((population[sample][:3],population[sample+1][3:])) \n",
    "                      for sample in range(len(population))[0::2]]\n",
    "    population = list(new_population)\n",
    "    print(\"Generation %d out of %d\" %(generation+1,initial_population_size/2))"
   ]
  },
  {
   "cell_type": "code",
   "execution_count": 51,
   "metadata": {},
   "outputs": [
    {
     "data": {
      "text/plain": [
       "[array([ 5, 23, 18, 10, 25]),\n",
       " array([18, 18, 30, 26, 22]),\n",
       " array([18,  3, 21, 27,  1]),\n",
       " array([17, 26,  6, 12, 19]),\n",
       " array([ 5, 28,  5,  1, 14]),\n",
       " array([23, 14, 12, 10, 27]),\n",
       " array([ 3, 28,  4,  8, 11]),\n",
       " array([ 4, 13, 16, 26, 22])]"
      ]
     },
     "execution_count": 51,
     "metadata": {},
     "output_type": "execute_result"
    }
   ],
   "source": [
    "population"
   ]
  },
  {
   "cell_type": "code",
   "execution_count": null,
   "metadata": {},
   "outputs": [],
   "source": []
  }
 ],
 "metadata": {
  "kernelspec": {
   "display_name": "Python 2",
   "language": "python",
   "name": "python2"
  },
  "language_info": {
   "codemirror_mode": {
    "name": "ipython",
    "version": 2
   },
   "file_extension": ".py",
   "mimetype": "text/x-python",
   "name": "python",
   "nbconvert_exporter": "python",
   "pygments_lexer": "ipython2",
   "version": "2.7.15"
  }
 },
 "nbformat": 4,
 "nbformat_minor": 2
}
