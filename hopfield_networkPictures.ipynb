{
 "cells": [
  {
   "cell_type": "markdown",
   "metadata": {},
   "source": [
    "# Hopfield Newtorks\n",
    "\n",
    "###### Simple implementation of a Hopfield network used to restore images\n",
    "\n",
    "TODO: Add more images, try grayscale? (map things to a line or sigmoid instead of +/-1)  \n",
    "Note: The bias term is always assumed to be zero here. There is however no loss in generality since it is not a learnable parameter and acts as a constant effect in the total network energy. "
   ]
  },
  {
   "cell_type": "code",
   "execution_count": null,
   "metadata": {},
   "outputs": [],
   "source": [
    "%matplotlib inline\n",
    "import numpy as np\n",
    "import matplotlib.pyplot as plt\n",
    "from PIL import Image\n",
    "from os import listdir\n",
    "from os.path import isfile, join"
   ]
  },
  {
   "cell_type": "code",
   "execution_count": null,
   "metadata": {},
   "outputs": [],
   "source": [
    "def base_patterns(x=64, y=64):\n",
    "    res = []\n",
    "    onlyfiles = [join('input_pics', f) for f in listdir('input_pics') if isfile(join('input_pics', f))]\n",
    "    n = len(onlyfiles)\n",
    "    fig, ax = plt.subplots(1, n, figsize=(18,6))\n",
    "    try:\n",
    "        axes = ax.ravel()\n",
    "    except: # when n == 1\n",
    "        axes = []\n",
    "        axes.append(ax)\n",
    "    i = 0\n",
    "    for f in onlyfiles:\n",
    "        # Load image, cut down to one channel, convert values to -1 or 1\n",
    "        im = np.array(Image.open(f)) - 127.5\n",
    "        if len(im.shape) > 2:\n",
    "            im = im[:,:,0]\n",
    "        im = im[:x, :y]  # Crop as needed\n",
    "        im[im < 0] = -1\n",
    "        im[im > 0] = 1\n",
    "        im = -im\n",
    "        axes[i].imshow(im, cmap='binary')\n",
    "        axes[i].set_title('pattern {}'.format(i))\n",
    "        im = np.reshape(im, (x * y))\n",
    "        res.append(im)\n",
    "        i += 1\n",
    "    return np.array(res).T\n",
    "\n",
    "def energy(state, W):\n",
    "    return -0.5 * state @ W @ state  # @ symbol is matrix multiply\n",
    "\n",
    "width = 128\n",
    "height = 128\n",
    "X = base_patterns(width,height)"
   ]
  },
  {
   "cell_type": "code",
   "execution_count": null,
   "metadata": {},
   "outputs": [],
   "source": [
    "# we build the weight matrix like this, c being the \"learning rate\"\n",
    "c = 1\n",
    "M = c * (1 / (width * height)) * (X @ X.T)\n",
    "# We also need to zero the diagonal\n",
    "np.fill_diagonal(M, 0)\n",
    "plt.imshow(M)\n",
    "plt.colorbar()"
   ]
  },
  {
   "cell_type": "code",
   "execution_count": null,
   "metadata": {},
   "outputs": [],
   "source": [
    "for i in range(len(X[0])):\n",
    "    # Randomly pick a corrupted pattern to recover\n",
    "    np.random.seed()\n",
    "    which = np.random.randint(0, len(X[0]))\n",
    "    which = i\n",
    "    # how corrupted \n",
    "    sigma = 1\n",
    "    vt = sigma * np.random.randn((width * height))# + X[:,which]\n",
    "    vt[vt > 0] = 1\n",
    "    vt[vt < 0] =-1\n",
    "\n",
    "    plt.imshow(np.reshape(vt, (width, height)), cmap='binary')\n",
    "    title = 'We will try to recover pattern {} \\n Corrupted with sigma = {} gaussian noise'.format(which, sigma)\n",
    "    _ = plt.title(title)\n",
    "\n",
    "    # save the evolution\n",
    "    ev = []\n",
    "    en = []\n",
    "    energy_old = np.infty\n",
    "    energy_new = energy(vt, M)\n",
    "    steps = 200\n",
    "    iteration = 0\n",
    "    # we keep running until we reach the lowest energy level\n",
    "    while (energy_old > energy_new) and iteration < steps: \n",
    "        iteration += 1\n",
    "        energy_old = energy_new\n",
    "        ev.append(np.copy(vt))\n",
    "        en.append(energy_old)\n",
    "        # -------------------------------------------------\n",
    "        # This is asynchronous update v1\n",
    "        # for ind in np.random.permutation(range(len(vt))):\n",
    "        #    vt[ind] = np.sign(M[ind,:] @ vt) \n",
    "        # -------------------------------------------------\n",
    "        # This is asynchronous update v2\n",
    "        for pixel in np.split(np.random.randint(0, len(vt), width * height), 8):\n",
    "            vt[pixel] = np.sign(M[pixel,:] @ vt)\n",
    "        # -------------------------------------------------\n",
    "        # This is synchronous update\n",
    "        #vt = np.sign(M @ vt)\n",
    "        # -------------------------------------------------\n",
    "        energy_new = energy(vt, M)\n",
    "    print('Stopped at iteration {}'.format(iteration))\n",
    "\n",
    "    fig, ax = plt.subplots(1,len(ev), figsize=(18,6))\n",
    "    axes = ax.ravel()\n",
    "    fig.suptitle('Trying to reconstruct pattern {} lowering network energy'.format(which))\n",
    "    for idx in range(len(ev)):\n",
    "        axes[idx].imshow(np.reshape(ev[idx], (width,height)),cmap='binary')\n",
    "        axes[idx].set_title('Iteration {} \\n Net. energy: {:.2f}'.format(idx, en[idx]))"
   ]
  },
  {
   "cell_type": "code",
   "execution_count": null,
   "metadata": {},
   "outputs": [],
   "source": [
    "# energy decreases monotonically at every iteration\n",
    "plt.plot(en)"
   ]
  },
  {
   "cell_type": "code",
   "execution_count": null,
   "metadata": {},
   "outputs": [],
   "source": []
  }
 ],
 "metadata": {
  "kernelspec": {
   "display_name": "Python 3",
   "language": "python",
   "name": "python3"
  },
  "language_info": {
   "codemirror_mode": {
    "name": "ipython",
    "version": 3
   },
   "file_extension": ".py",
   "mimetype": "text/x-python",
   "name": "python",
   "nbconvert_exporter": "python",
   "pygments_lexer": "ipython3",
   "version": "3.8.3"
  }
 },
 "nbformat": 4,
 "nbformat_minor": 2
}
