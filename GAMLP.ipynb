{
 "cells": [
  {
   "cell_type": "markdown",
   "metadata": {},
   "source": [
    "# GA-based optimization of MLP hyperparameters"
   ]
  },
  {
   "cell_type": "markdown",
   "metadata": {},
   "source": [
    "### Imports"
   ]
  },
  {
   "cell_type": "code",
   "execution_count": 96,
   "metadata": {},
   "outputs": [],
   "source": [
    "from sklearn.datasets import load_breast_cancer\n",
    "from sklearn.model_selection import train_test_split\n",
    "from sklearn.decomposition import PCA\n",
    "from sklearn.preprocessing import StandardScaler\n",
    "from sklearn.neural_network import MLPClassifier\n",
    "import numpy as np\n",
    "from random import shuffle\n",
    "from operator import itemgetter"
   ]
  },
  {
   "cell_type": "markdown",
   "metadata": {},
   "source": [
    "### Load and pre-process data"
   ]
  },
  {
   "cell_type": "code",
   "execution_count": 97,
   "metadata": {},
   "outputs": [],
   "source": [
    "bc = load_breast_cancer()\n",
    "x_train, x_test, y_train, y_test = train_test_split(bc.data,bc.target)\n",
    "pca = PCA(n_components=10).fit(bc.data)\n",
    "xtr_new = pca.transform(x_train)\n",
    "xte_new = pca.transform(x_test)\n",
    "scaler = StandardScaler().fit(xtr_new)\n",
    "xtr_new = scaler.transform(xtr_new)\n",
    "xte_new = scaler.transform(xte_new)"
   ]
  },
  {
   "cell_type": "markdown",
   "metadata": {},
   "source": [
    "### Create initial population"
   ]
  },
  {
   "cell_type": "code",
   "execution_count": 103,
   "metadata": {},
   "outputs": [
    {
     "name": "stdout",
     "output_type": "stream",
     "text": [
      "[array([24, 15, 19, 25,  9]), array([ 1, 27,  1,  2,  6]), array([21, 19, 20, 16, 15]), array([10, 23, 28,  7,  5]), array([30, 27,  6, 23, 27]), array([22,  6, 26,  1,  7]), array([ 4, 22,  5, 25, 20]), array([11, 14, 26, 25,  5]), array([13, 18, 28, 12, 12]), array([22,  6,  9, 14, 25]), array([13, 20, 29,  6,  7]), array([22, 26,  7,  6, 24]), array([ 2,  8, 26, 17,  3]), array([20, 29, 22, 30, 20]), array([16, 20, 21, 14, 18]), array([27, 17,  8,  1, 23]), array([ 3,  7, 24, 17, 27]), array([27, 16, 30, 14, 21]), array([21,  4, 22, 24, 29]), array([14, 15, 29, 23, 16]), array([18, 20, 15,  5, 11]), array([10, 28,  2, 17,  8]), array([23, 19, 22, 30,  6]), array([14,  7,  1,  2, 27]), array([11, 16,  6, 14, 23]), array([29, 11, 28,  2,  5]), array([16, 15,  8,  8, 22]), array([ 2, 19, 11,  2, 23]), array([27,  7,  4, 26,  2]), array([27, 20, 22, 16, 19]), array([11, 26, 11, 21, 11]), array([24,  2,  2,  8, 28]), array([11,  9, 18, 12, 14]), array([24,  5, 20, 25, 20]), array([21,  8,  2,  9, 15]), array([15,  9, 29,  5,  5]), array([23,  2, 20, 18, 29]), array([23, 18, 11, 16,  7]), array([ 6, 30, 19, 13, 11]), array([13, 26, 13, 22, 22]), array([15, 25, 29, 13,  9]), array([17, 29, 11, 16, 27]), array([ 4, 23,  3, 13, 23]), array([22, 27, 10, 10, 29]), array([27,  9, 23, 24, 12]), array([ 1,  2, 22,  5, 13]), array([17, 16,  9,  8,  2]), array([27,  2, 23, 11, 27]), array([ 1, 23, 24, 19,  6]), array([30,  4,  6, 20, 30])]\n"
     ]
    }
   ],
   "source": [
    "initial_population_size = 100\n",
    "population = [np.random.randint(1,31,(5,)) for i in range(initial_population_size)]\n",
    "print(population)"
   ]
  },
  {
   "cell_type": "markdown",
   "metadata": {},
   "source": [
    "### Train and test generation"
   ]
  },
  {
   "cell_type": "code",
   "execution_count": 99,
   "metadata": {},
   "outputs": [
    {
     "name": "stdout",
     "output_type": "stream",
     "text": [
      "Generation 1 out of 25: done!\n",
      "Generation 2 out of 25: done!\n",
      "Generation 3 out of 25: done!\n",
      "Generation 4 out of 25: done!\n",
      "Generation 5 out of 25: done!\n",
      "Generation 6 out of 25: done!\n",
      "Generation 7 out of 25: done!\n",
      "Generation 8 out of 25: done!\n",
      "Generation 9 out of 25: done!\n",
      "Generation 10 out of 25: done!\n",
      "Generation 11 out of 25: done!\n",
      "Generation 12 out of 25: done!\n",
      "Generation 13 out of 25: done!\n",
      "Generation 14 out of 25: done!\n",
      "Generation 15 out of 25: done!\n",
      "Generation 16 out of 25: done!\n",
      "Generation 17 out of 25: done!\n",
      "Generation 18 out of 25: done!\n",
      "Generation 19 out of 25: done!\n",
      "Generation 20 out of 25: done!\n",
      "Generation 21 out of 25: done!\n",
      "Generation 22 out of 25: done!\n",
      "Generation 23 out of 25: done!\n",
      "Generation 24 out of 25: done!\n"
     ]
    }
   ],
   "source": [
    "scores = []\n",
    "\n",
    "for generation in range(initial_population_size/2):\n",
    "    del scores[:]\n",
    "    for sample in population:\n",
    "        nn = MLPClassifier(solver='sgd', alpha=1e-5, hidden_layer_sizes=sample, random_state=1)\n",
    "        nn.fit(xtr_new,y_train)\n",
    "        scores.append([nn.score(xte_new,y_test),sample])\n",
    "        scores.sort(key=lambda x: x[0])\n",
    "    \n",
    "    if len(scores)==2: \n",
    "        break\n",
    "    # create new population\n",
    "    del scores[-2:]\n",
    "    shuffle(scores)\n",
    "    population = [model[1] for model in scores]\n",
    "    new_population = []\n",
    "    for index in range(len(population))[0:-1:2]:\n",
    "        new_population.append(np.concatenate((population[index][:3],population[index+1][3:])))\n",
    "        new_population.append(np.concatenate((population[index][3:],population[index+1][:3])))\n",
    "    population = list(new_population)\n",
    "    print(\"Generation %d out of %d: done!\" %(generation+1,initial_population_size/2))"
   ]
  },
  {
   "cell_type": "code",
   "execution_count": 100,
   "metadata": {},
   "outputs": [
    {
     "name": "stdout",
     "output_type": "stream",
     "text": [
      "[[0.6153846153846154, array([12, 14,  1,  1, 15])], [0.9230769230769231, array([26, 26, 20,  2, 14])]]\n"
     ]
    }
   ],
   "source": [
    "print(scores)"
   ]
  },
  {
   "cell_type": "code",
   "execution_count": null,
   "metadata": {},
   "outputs": [],
   "source": []
  }
 ],
 "metadata": {
  "kernelspec": {
   "display_name": "Python 2",
   "language": "python",
   "name": "python2"
  },
  "language_info": {
   "codemirror_mode": {
    "name": "ipython",
    "version": 2
   },
   "file_extension": ".py",
   "mimetype": "text/x-python",
   "name": "python",
   "nbconvert_exporter": "python",
   "pygments_lexer": "ipython2",
   "version": "2.7.15"
  }
 },
 "nbformat": 4,
 "nbformat_minor": 2
}
