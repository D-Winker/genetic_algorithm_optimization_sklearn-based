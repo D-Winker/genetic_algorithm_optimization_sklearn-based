{
 "cells": [
  {
   "cell_type": "markdown",
   "metadata": {},
   "source": [
    "# GA-based optimization of MLP hyperparameters"
   ]
  },
  {
   "cell_type": "markdown",
   "metadata": {},
   "source": [
    "### Imports"
   ]
  },
  {
   "cell_type": "code",
   "execution_count": 1,
   "metadata": {},
   "outputs": [],
   "source": [
    "from sklearn.datasets import load_breast_cancer\n",
    "from sklearn.model_selection import train_test_split\n",
    "from sklearn.decomposition import PCA\n",
    "from sklearn.preprocessing import StandardScaler\n",
    "from sklearn.neural_network import MLPClassifier\n",
    "import numpy as np\n",
    "from random import shuffle\n",
    "from operator import itemgetter"
   ]
  },
  {
   "cell_type": "markdown",
   "metadata": {},
   "source": [
    "### Load and pre-process data"
   ]
  },
  {
   "cell_type": "code",
   "execution_count": 2,
   "metadata": {},
   "outputs": [],
   "source": [
    "bc = load_breast_cancer()\n",
    "x_train, x_test, y_train, y_test = train_test_split(bc.data,bc.target)\n",
    "pca = PCA(n_components=10).fit(bc.data)\n",
    "xtr_new = pca.transform(x_train)\n",
    "xte_new = pca.transform(x_test)\n",
    "scaler = StandardScaler().fit(xtr_new)\n",
    "xtr_new = scaler.transform(xtr_new)\n",
    "xte_new = scaler.transform(xte_new)"
   ]
  },
  {
   "cell_type": "markdown",
   "metadata": {},
   "source": [
    "### Create initial population"
   ]
  },
  {
   "cell_type": "code",
   "execution_count": 3,
   "metadata": {},
   "outputs": [],
   "source": [
    "initial_population_size = 100\n",
    "population = [np.random.randint(1,15,(3,)) for i in range(initial_population_size)]"
   ]
  },
  {
   "cell_type": "markdown",
   "metadata": {},
   "source": [
    "### Train and test generation"
   ]
  },
  {
   "cell_type": "code",
   "execution_count": 4,
   "metadata": {},
   "outputs": [
    {
     "name": "stderr",
     "output_type": "stream",
     "text": [
      "/home/pjk/anaconda2/lib/python2.7/site-packages/sklearn/neural_network/multilayer_perceptron.py:564: ConvergenceWarning: Stochastic Optimizer: Maximum iterations (800) reached and the optimization hasn't converged yet.\n",
      "  % self.max_iter, ConvergenceWarning)\n"
     ]
    },
    {
     "name": "stdout",
     "output_type": "stream",
     "text": [
      "Generation 1 out of 50: done!\n",
      "Generation 2 out of 50: done!\n",
      "Generation 3 out of 50: done!\n",
      "Generation 4 out of 50: done!\n",
      "Generation 5 out of 50: done!\n",
      "Generation 6 out of 50: done!\n",
      "Generation 7 out of 50: done!\n",
      "Generation 8 out of 50: done!\n",
      "Generation 9 out of 50: done!\n",
      "Generation 10 out of 50: done!\n",
      "Generation 11 out of 50: done!\n",
      "Generation 12 out of 50: done!\n",
      "Generation 13 out of 50: done!\n",
      "Generation 14 out of 50: done!\n",
      "Generation 15 out of 50: done!\n",
      "Generation 16 out of 50: done!\n",
      "Generation 17 out of 50: done!\n",
      "Generation 18 out of 50: done!\n",
      "Generation 19 out of 50: done!\n",
      "Generation 20 out of 50: done!\n",
      "Generation 21 out of 50: done!\n",
      "Generation 22 out of 50: done!\n",
      "Generation 23 out of 50: done!\n",
      "Generation 24 out of 50: done!\n",
      "Generation 25 out of 50: done!\n",
      "Generation 26 out of 50: done!\n",
      "Generation 27 out of 50: done!\n",
      "Generation 28 out of 50: done!\n",
      "Generation 29 out of 50: done!\n",
      "Generation 30 out of 50: done!\n",
      "Generation 31 out of 50: done!\n",
      "Generation 32 out of 50: done!\n",
      "Generation 33 out of 50: done!\n",
      "Generation 34 out of 50: done!\n",
      "Generation 35 out of 50: done!\n",
      "Generation 36 out of 50: done!\n",
      "Generation 37 out of 50: done!\n",
      "Generation 38 out of 50: done!\n",
      "Generation 39 out of 50: done!\n",
      "Generation 40 out of 50: done!\n",
      "Generation 41 out of 50: done!\n",
      "Generation 42 out of 50: done!\n",
      "Generation 43 out of 50: done!\n",
      "Generation 44 out of 50: done!\n",
      "Generation 45 out of 50: done!\n",
      "Generation 46 out of 50: done!\n",
      "Generation 47 out of 50: done!\n",
      "Generation 48 out of 50: done!\n",
      "Generation 49 out of 50: done!\n"
     ]
    }
   ],
   "source": [
    "scores = []\n",
    "\n",
    "for generation in range(initial_population_size/2):\n",
    "    del scores[:]\n",
    "    for sample in population:\n",
    "        nn = MLPClassifier(activation='relu',solver='sgd',max_iter=800,\n",
    "                           alpha=1e-5, hidden_layer_sizes=sample, random_state=85)\n",
    "        nn.fit(xtr_new,y_train)\n",
    "        scores.append([nn.score(xte_new,y_test),sample])\n",
    "    \n",
    "    scores.sort(key=lambda x: x[0])\n",
    "    if len(scores)==2: \n",
    "        break\n",
    "    # create new population\n",
    "    del scores[:2]\n",
    "    shuffle(scores)\n",
    "    population = [model[1] for model in scores]\n",
    "    new_population = []\n",
    "    for index in range(len(population))[0:-1:2]:\n",
    "        new_population.append(np.concatenate((population[index][:1],population[index+1][1:])))\n",
    "        new_population.append(np.concatenate((population[index+1][:1],population[index][1:])))\n",
    "    population = list(new_population)\n",
    "    print(\"Generation %d out of %d: done!\" %(generation+1,initial_population_size/2))"
   ]
  },
  {
   "cell_type": "code",
   "execution_count": 5,
   "metadata": {},
   "outputs": [
    {
     "name": "stdout",
     "output_type": "stream",
     "text": [
      "[[0.958041958041958, array([11,  6,  6])], [0.965034965034965, array([14,  6,  6])]]\n"
     ]
    }
   ],
   "source": [
    "print(scores)"
   ]
  },
  {
   "cell_type": "code",
   "execution_count": null,
   "metadata": {},
   "outputs": [],
   "source": []
  }
 ],
 "metadata": {
  "kernelspec": {
   "display_name": "Python 2",
   "language": "python",
   "name": "python2"
  },
  "language_info": {
   "codemirror_mode": {
    "name": "ipython",
    "version": 2
   },
   "file_extension": ".py",
   "mimetype": "text/x-python",
   "name": "python",
   "nbconvert_exporter": "python",
   "pygments_lexer": "ipython2",
   "version": "2.7.15"
  }
 },
 "nbformat": 4,
 "nbformat_minor": 2
}
